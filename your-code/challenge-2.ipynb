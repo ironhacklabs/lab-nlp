{
 "cells": [
  {
   "cell_type": "markdown",
   "metadata": {},
   "source": [
    "# Challenge 2: Sentiment Analysis\n",
    "\n",
    "In this challenge we will learn sentiment analysis and practice performing sentiment analysis on Twitter tweets. \n",
    "\n",
    "## Introduction\n",
    "\n",
    "Sentiment analysis is to *systematically identify, extract, quantify, and study affective states and subjective information* based on texts ([reference](https://en.wikipedia.org/wiki/Sentiment_analysis)). In simple words, it's to understand whether a person is happy or unhappy in producing the piece of text. Why we (or rather, companies) care about sentiment in texts? It's because by understanding the sentiments in texts, we will be able to know if our customers are happy or unhappy about our products and services. If they are unhappy, the subsequent action is to figure out what have caused the unhappiness and make improvements.\n",
    "\n",
    "Basic sentiment analysis only understands the *positive* or *negative* (sometimes *neutral* too) polarities of the sentiment. More advanced sentiment analysis will also consider dimensions such as agreement, subjectivity, confidence, irony, and so on. In this challenge we will conduct the basic positive vs negative sentiment analysis based on real Twitter tweets.\n",
    "\n",
    "NLTK comes with a [sentiment analysis package](https://www.nltk.org/api/nltk.sentiment.html). This package is great for dummies to perform sentiment analysis because it requires only the textual data to make predictions. For example:\n",
    "\n",
    "```python\n",
    ">>> from nltk.sentiment.vader import SentimentIntensityAnalyzer\n",
    ">>> txt = \"Ironhack is a Global Tech School ranked num 2 worldwide.  ",
    " ",
    "Our mission is to help people transform their careers and join a thriving community of tech professionals that love what they do.\"\n",
    ">>> analyzer = SentimentIntensityAnalyzer()\n",
    ">>> analyzer.polarity_scores(txt)\n",
    "{'neg': 0.0, 'neu': 0.741, 'pos': 0.259, 'compound': 0.8442}\n",
    "```\n",
    "\n",
    "In this challenge, however, you will not use NLTK's sentiment analysis package because in your Machine Learning training in the past 2 weeks you have learned how to make predictions more accurate than that. The [tweets data](https://www.kaggle.com/kazanova/sentiment140) we will be using today are already coded for the positive/negative sentiment. You will be able to use the Naïve Bayes classifier you learned in the lesson to predict the sentiment of tweets based on the labels."
   ]
  },
  {
   "cell_type": "markdown",
   "metadata": {},
   "source": [
    "## Conducting Sentiment Analysis\n",
    "\n",
    "### Loading and Exploring Data\n",
    "\n",
    "The dataset we'll be using today is located in the lab directory named `Sentiment140.csv.zip`. You need to unzip it into a `.csv` file. Then in the cell below, load and explore the data.\n",
    "\n",
    "*Notes:* \n",
    "\n",
    "* The dataset was downloaded from [Kaggle](https://www.kaggle.com/kazanova/sentiment140). We made a slight change on the original data so that each column has a label.\n",
    "\n",
    "* The dataset is huuuuge (1.6m tweets). When you develop your data analysis codes, you can sample a subset of the data (e.g. 20k records) so that you will save a lot of time when you test your codes."
   ]
  },
  {
   "cell_type": "code",
   "execution_count": 29,
   "metadata": {},
   "outputs": [],
   "source": [
    "import pandas as pd\n",
    "import nltk\n",
    "from nltk.tokenize import word_tokenize\n",
    "from nltk.stem import PorterStemmer \n",
    "from nltk.stem.snowball import SnowballStemmer\n",
    "from nltk.stem import WordNetLemmatizer \n",
    "from nltk.corpus import stopwords\n",
    "from textblob import TextBlob\n",
    "from sklearn.feature_extraction.text import CountVectorizer\n",
    "from sklearn.feature_extraction.text import TfidfVectorizer"
   ]
  },
  {
   "cell_type": "code",
   "execution_count": 30,
   "metadata": {},
   "outputs": [],
   "source": [
    "sent = pd.read_csv('../../../../Downloads/Sentiment140.csv')\n",
    "sent_sampled = sent.sample(20000)"
   ]
  },
  {
   "cell_type": "markdown",
   "metadata": {},
   "source": [
    "### Prepare Textual Data for Sentiment Analysis\n",
    "\n",
    "Now, apply the functions you have written in Challenge 1 to your whole data set. These functions include:\n",
    "\n",
    "* `clean_up()`\n",
    "\n",
    "* `tokenize()`\n",
    "\n",
    "* `stem_and_lemmatize()`\n",
    "\n",
    "* `remove_stopwords()`\n",
    "\n",
    "Create a new column called `text_processed` in the dataframe to contain the processed data. At the end, your `text_processed` column should contain lists of word tokens that are cleaned up. Your data should look like below:\n",
    "\n",
    "![Processed Data](data-cleaning-results.png)"
   ]
  },
  {
   "cell_type": "code",
   "execution_count": 31,
   "metadata": {},
   "outputs": [],
   "source": [
    "import re\n",
    "\n",
    "def clean_up(s):\n",
    "    \"\"\"\n",
    "    Cleans up numbers, URLs, and special characters from a string.\n",
    "\n",
    "    Args:\n",
    "        s: The string to be cleaned up.\n",
    "\n",
    "    Returns:\n",
    "        A string that has been cleaned up.\n",
    "    \"\"\"\n",
    "    s=re.sub('http://.*', ' ', s).lower()\n",
    "    s=re.sub('[^A-Za-z]+', ' ', s)\n",
    "    \n",
    "    return s"
   ]
  },
  {
   "cell_type": "code",
   "execution_count": 32,
   "metadata": {},
   "outputs": [],
   "source": [
    "def tokenize(s):\n",
    "    \"\"\"\n",
    "    Tokenize a string.\n",
    "\n",
    "    Args:\n",
    "        s: String to be tokenized.\n",
    "\n",
    "    Returns:\n",
    "        A list of words as the result of tokenization.\n",
    "    \"\"\"\n",
    "    return word_tokenize(s)\n"
   ]
  },
  {
   "cell_type": "code",
   "execution_count": 33,
   "metadata": {},
   "outputs": [],
   "source": [
    "def stem_and_lemmatize(l):\n",
    "    \"\"\"\n",
    "    Perform stemming and lemmatization on a list of words.\n",
    "\n",
    "    Args:\n",
    "        l: A list of strings.\n",
    "\n",
    "    Returns:\n",
    "        A list of strings after being stemmed and lemmatized.\n",
    "    \"\"\"\n",
    "    ps = PorterStemmer ()\n",
    "    stemmed = [ps.stem(w) for w in l]\n",
    "    lemmatizer = WordNetLemmatizer()\n",
    "    lemmatized = [lemmatizer.lemmatize(w) for w in stemmed]\n",
    "    return lemmatized"
   ]
  },
  {
   "cell_type": "code",
   "execution_count": 34,
   "metadata": {},
   "outputs": [],
   "source": [
    "def remove_stopwords(l):\n",
    "    \"\"\"\n",
    "    Remove English stopwords from a list of strings.\n",
    "\n",
    "    Args:\n",
    "        l: A list of strings.\n",
    "\n",
    "    Returns:\n",
    "        A list of strings after stop words are removed.\n",
    "    \"\"\"\n",
    "    \n",
    "    stop_words = stopwords.words('english')\n",
    "    \n",
    "    return [w for w in l if w not in stop_words]"
   ]
  },
  {
   "cell_type": "code",
   "execution_count": 35,
   "metadata": {},
   "outputs": [
    {
     "data": {
      "text/html": [
       "<div>\n",
       "<style scoped>\n",
       "    .dataframe tbody tr th:only-of-type {\n",
       "        vertical-align: middle;\n",
       "    }\n",
       "\n",
       "    .dataframe tbody tr th {\n",
       "        vertical-align: top;\n",
       "    }\n",
       "\n",
       "    .dataframe thead th {\n",
       "        text-align: right;\n",
       "    }\n",
       "</style>\n",
       "<table border=\"1\" class=\"dataframe\">\n",
       "  <thead>\n",
       "    <tr style=\"text-align: right;\">\n",
       "      <th></th>\n",
       "      <th>target</th>\n",
       "      <th>id</th>\n",
       "      <th>date</th>\n",
       "      <th>flag</th>\n",
       "      <th>user</th>\n",
       "      <th>text</th>\n",
       "      <th>text_processed</th>\n",
       "    </tr>\n",
       "  </thead>\n",
       "  <tbody>\n",
       "    <tr>\n",
       "      <th>1216584</th>\n",
       "      <td>4</td>\n",
       "      <td>1989656020</td>\n",
       "      <td>Mon Jun 01 02:20:04 PDT 2009</td>\n",
       "      <td>NO_QUERY</td>\n",
       "      <td>joelyme3D</td>\n",
       "      <td>hmm might have a nice long shower or bath to h...</td>\n",
       "      <td>[hmm, might, nice, long, shower, bath, help, r...</td>\n",
       "    </tr>\n",
       "    <tr>\n",
       "      <th>1322554</th>\n",
       "      <td>4</td>\n",
       "      <td>2014804972</td>\n",
       "      <td>Wed Jun 03 02:44:44 PDT 2009</td>\n",
       "      <td>NO_QUERY</td>\n",
       "      <td>_iDANCE19</td>\n",
       "      <td>For me, it's goodnight  xo  P.S. Be sure to re...</td>\n",
       "      <td>[goodnight, xo, p, sure, read, love, never, fail]</td>\n",
       "    </tr>\n",
       "    <tr>\n",
       "      <th>1427990</th>\n",
       "      <td>4</td>\n",
       "      <td>2059480879</td>\n",
       "      <td>Sat Jun 06 17:01:17 PDT 2009</td>\n",
       "      <td>NO_QUERY</td>\n",
       "      <td>UnveilingHope</td>\n",
       "      <td>@stephfortunato Hope you put sunscreen on that...</td>\n",
       "      <td>[stephfortunato, hope, put, sunscreen, pretti,...</td>\n",
       "    </tr>\n",
       "    <tr>\n",
       "      <th>626179</th>\n",
       "      <td>0</td>\n",
       "      <td>2230505832</td>\n",
       "      <td>Thu Jun 18 17:12:31 PDT 2009</td>\n",
       "      <td>NO_QUERY</td>\n",
       "      <td>OnePersonToo</td>\n",
       "      <td>Wondering why Tweetie did not update my icon.</td>\n",
       "      <td>[wonder, whi, tweeti, updat, icon]</td>\n",
       "    </tr>\n",
       "    <tr>\n",
       "      <th>1518459</th>\n",
       "      <td>4</td>\n",
       "      <td>2175965203</td>\n",
       "      <td>Mon Jun 15 02:31:07 PDT 2009</td>\n",
       "      <td>NO_QUERY</td>\n",
       "      <td>drivenrajat</td>\n",
       "      <td>@reemakoul @purugovind public forum hai.. naam...</td>\n",
       "      <td>[reemakoul, purugovind, public, forum, hai, na...</td>\n",
       "    </tr>\n",
       "    <tr>\n",
       "      <th>...</th>\n",
       "      <td>...</td>\n",
       "      <td>...</td>\n",
       "      <td>...</td>\n",
       "      <td>...</td>\n",
       "      <td>...</td>\n",
       "      <td>...</td>\n",
       "      <td>...</td>\n",
       "    </tr>\n",
       "    <tr>\n",
       "      <th>1040378</th>\n",
       "      <td>4</td>\n",
       "      <td>1956940374</td>\n",
       "      <td>Thu May 28 23:05:01 PDT 2009</td>\n",
       "      <td>NO_QUERY</td>\n",
       "      <td>Peeeeches</td>\n",
       "      <td>@kinkyb24 I didn't see ur tweet until now. Sor...</td>\n",
       "      <td>[kinkyb, see, ur, tweet, sorri, love, u]</td>\n",
       "    </tr>\n",
       "    <tr>\n",
       "      <th>756231</th>\n",
       "      <td>0</td>\n",
       "      <td>2288656174</td>\n",
       "      <td>Mon Jun 22 19:26:48 PDT 2009</td>\n",
       "      <td>NO_QUERY</td>\n",
       "      <td>bubbleMAMI</td>\n",
       "      <td>Run's family makes me happy. Thats a frown be...</td>\n",
       "      <td>[run, famili, make, happi, frown, becaus, expr...</td>\n",
       "    </tr>\n",
       "    <tr>\n",
       "      <th>745623</th>\n",
       "      <td>0</td>\n",
       "      <td>2282483738</td>\n",
       "      <td>Mon Jun 22 11:25:37 PDT 2009</td>\n",
       "      <td>NO_QUERY</td>\n",
       "      <td>Superpaperlink</td>\n",
       "      <td>Wishes theresa had not come to shops with me a...</td>\n",
       "      <td>[wish, theresa, come, shop, charlott, would, a...</td>\n",
       "    </tr>\n",
       "    <tr>\n",
       "      <th>1091246</th>\n",
       "      <td>4</td>\n",
       "      <td>1969872534</td>\n",
       "      <td>Sat May 30 01:32:59 PDT 2009</td>\n",
       "      <td>NO_QUERY</td>\n",
       "      <td>nickash20</td>\n",
       "      <td>Kickback fun!!!! Time to get buckwild HaHahaHa...</td>\n",
       "      <td>[kickback, fun, time, get, buckwild, hahahaha,...</td>\n",
       "    </tr>\n",
       "    <tr>\n",
       "      <th>58053</th>\n",
       "      <td>0</td>\n",
       "      <td>1685814052</td>\n",
       "      <td>Sun May 03 02:13:06 PDT 2009</td>\n",
       "      <td>NO_QUERY</td>\n",
       "      <td>phantomfall</td>\n",
       "      <td>@officialTila not everyone is sleeping! come o...</td>\n",
       "      <td>[officialtila, everyon, sleep, come, haha]</td>\n",
       "    </tr>\n",
       "  </tbody>\n",
       "</table>\n",
       "<p>20000 rows × 7 columns</p>\n",
       "</div>"
      ],
      "text/plain": [
       "         target          id                          date      flag  \\\n",
       "1216584       4  1989656020  Mon Jun 01 02:20:04 PDT 2009  NO_QUERY   \n",
       "1322554       4  2014804972  Wed Jun 03 02:44:44 PDT 2009  NO_QUERY   \n",
       "1427990       4  2059480879  Sat Jun 06 17:01:17 PDT 2009  NO_QUERY   \n",
       "626179        0  2230505832  Thu Jun 18 17:12:31 PDT 2009  NO_QUERY   \n",
       "1518459       4  2175965203  Mon Jun 15 02:31:07 PDT 2009  NO_QUERY   \n",
       "...         ...         ...                           ...       ...   \n",
       "1040378       4  1956940374  Thu May 28 23:05:01 PDT 2009  NO_QUERY   \n",
       "756231        0  2288656174  Mon Jun 22 19:26:48 PDT 2009  NO_QUERY   \n",
       "745623        0  2282483738  Mon Jun 22 11:25:37 PDT 2009  NO_QUERY   \n",
       "1091246       4  1969872534  Sat May 30 01:32:59 PDT 2009  NO_QUERY   \n",
       "58053         0  1685814052  Sun May 03 02:13:06 PDT 2009  NO_QUERY   \n",
       "\n",
       "                   user                                               text  \\\n",
       "1216584       joelyme3D  hmm might have a nice long shower or bath to h...   \n",
       "1322554       _iDANCE19  For me, it's goodnight  xo  P.S. Be sure to re...   \n",
       "1427990   UnveilingHope  @stephfortunato Hope you put sunscreen on that...   \n",
       "626179     OnePersonToo     Wondering why Tweetie did not update my icon.    \n",
       "1518459     drivenrajat  @reemakoul @purugovind public forum hai.. naam...   \n",
       "...                 ...                                                ...   \n",
       "1040378       Peeeeches  @kinkyb24 I didn't see ur tweet until now. Sor...   \n",
       "756231       bubbleMAMI   Run's family makes me happy. Thats a frown be...   \n",
       "745623   Superpaperlink  Wishes theresa had not come to shops with me a...   \n",
       "1091246       nickash20  Kickback fun!!!! Time to get buckwild HaHahaHa...   \n",
       "58053       phantomfall  @officialTila not everyone is sleeping! come o...   \n",
       "\n",
       "                                            text_processed  \n",
       "1216584  [hmm, might, nice, long, shower, bath, help, r...  \n",
       "1322554  [goodnight, xo, p, sure, read, love, never, fail]  \n",
       "1427990  [stephfortunato, hope, put, sunscreen, pretti,...  \n",
       "626179                  [wonder, whi, tweeti, updat, icon]  \n",
       "1518459  [reemakoul, purugovind, public, forum, hai, na...  \n",
       "...                                                    ...  \n",
       "1040378           [kinkyb, see, ur, tweet, sorri, love, u]  \n",
       "756231   [run, famili, make, happi, frown, becaus, expr...  \n",
       "745623   [wish, theresa, come, shop, charlott, would, a...  \n",
       "1091246  [kickback, fun, time, get, buckwild, hahahaha,...  \n",
       "58053           [officialtila, everyon, sleep, come, haha]  \n",
       "\n",
       "[20000 rows x 7 columns]"
      ]
     },
     "execution_count": 35,
     "metadata": {},
     "output_type": "execute_result"
    }
   ],
   "source": [
    "sent_sampled['text_processed'] = sent_sampled.text.apply(clean_up)\n",
    "sent_sampled['text_processed'] = sent_sampled.text_processed.apply(tokenize)\n",
    "sent_sampled['text_processed'] = sent_sampled.text_processed.apply(stem_and_lemmatize)\n",
    "sent_sampled['text_processed'] = sent_sampled.text_processed.apply(remove_stopwords)\n",
    "sent_sampled"
   ]
  },
  {
   "cell_type": "markdown",
   "metadata": {},
   "source": [
    "### Creating Bag of Words\n",
    "\n",
    "The purpose of this step is to create a [bag of words](https://en.wikipedia.org/wiki/Bag-of-words_model) from the processed data. The bag of words contains all the unique words in your whole text body (a.k.a. *corpus*) with the number of occurrence of each word. It will allow you to understand which words are the most important features across the whole corpus.\n",
    "\n",
    "Also, you can imagine you will have a massive set of words. The less important words (i.e. those of very low number of occurrence) do not contribute much to the sentiment. Therefore, you only need to use the most important words to build your feature set in the next step. In our case, we will use the top 5,000 words with the highest frequency to build the features.\n",
    "\n",
    "In the cell below, combine all the words in `text_processed` and calculate the frequency distribution of all words. A convenient library to calculate the term frequency distribution is NLTK's `FreqDist` class ([documentation](https://www.nltk.org/api/nltk.html#module-nltk.probability)). Then select the top 5,000 words from the frequency distribution."
   ]
  },
  {
   "cell_type": "code",
   "execution_count": 36,
   "metadata": {},
   "outputs": [],
   "source": [
    "words = [word for line in sent_sampled.text_processed for word in line]\n",
    "fdist = nltk.FreqDist(words)\n",
    "top_words = [tuple[0] for tuple in fdist.most_common(5000)]"
   ]
  },
  {
   "cell_type": "markdown",
   "metadata": {},
   "source": [
    "### Building Features\n",
    "\n",
    "Now let's build the features. Using the top 5,000 words, create a 2-dimensional matrix to record whether each of those words is contained in each document (tweet). Then you also have an output column to indicate whether the sentiment in each tweet is positive. For example, assuming your bag of words has 5 items (`['one', 'two', 'three', 'four', 'five']`) out of 4 documents (`['A', 'B', 'C', 'D']`), your feature set is essentially:\n",
    "\n",
    "| Doc | one | two | three | four | five | is_positive |\n",
    "|---|---|---|---|---|---|---|\n",
    "| A | True | False | False | True | False | True |\n",
    "| B | False | False | False | True | True | False |\n",
    "| C | False | True | False | False | False | True |\n",
    "| D | True | False | False | False | True | False|\n",
    "\n",
    "However, because the `nltk.NaiveBayesClassifier.train` class we will use in the next step does not work with Pandas dataframe, the structure of your feature set should be converted to the Python list looking like below:\n",
    "\n",
    "```python\n",
    "[\n",
    "\t({\n",
    "\t\t'one': True,\n",
    "\t\t'two': False,\n",
    "\t\t'three': False,\n",
    "\t\t'four': True,\n",
    "\t\t'five': False\n",
    "\t}, True),\n",
    "\t({\n",
    "\t\t'one': False,\n",
    "\t\t'two': False,\n",
    "\t\t'three': False,\n",
    "\t\t'four': True,\n",
    "\t\t'five': True\n",
    "\t}, False),\n",
    "\t({\n",
    "\t\t'one': False,\n",
    "\t\t'two': True,\n",
    "\t\t'three': False,\n",
    "\t\t'four': False,\n",
    "\t\t'five': False\n",
    "\t}, True),\n",
    "\t({\n",
    "\t\t'one': True,\n",
    "\t\t'two': False,\n",
    "\t\t'three': False,\n",
    "\t\t'four': False,\n",
    "\t\t'five': True\n",
    "\t}, False)\n",
    "]\n",
    "```\n",
    "\n",
    "To help you in this step, watch the [following video](https://www.youtube.com/watch?v=-vVskDsHcVc) to learn how to build the feature set with Python and NLTK. The source code in this video can be found [here](https://pythonprogramming.net/words-as-features-nltk-tutorial/)."
   ]
  },
  {
   "cell_type": "markdown",
   "metadata": {},
   "source": [
    "[![Building Features](building-features.jpg)](https://www.youtube.com/watch?v=-vVskDsHcVc)"
   ]
  },
  {
   "cell_type": "code",
   "execution_count": 37,
   "metadata": {},
   "outputs": [],
   "source": [
    "def find_features(text):\n",
    "    words = text.lower()\n",
    "    features = {}\n",
    "    for w in top_words: features[w] = w in words\n",
    "    return features\n",
    "\n",
    "featuresets = [(find_features(t),bool(s)) for t,s in zip(sent_sampled['text'],sent_sampled['target'])]"
   ]
  },
  {
   "cell_type": "markdown",
   "metadata": {},
   "source": [
    "### Building and Traininng Naive Bayes Model\n",
    "\n",
    "In this step you will split your feature set into a training and a test set. Then you will create a Bayes classifier instance using `nltk.NaiveBayesClassifier.train` ([example](https://www.nltk.org/book/ch06.html)) to train with the training dataset.\n",
    "\n",
    "After training the model, call `classifier.show_most_informative_features()` to inspect the most important features. The output will look like:\n",
    "\n",
    "```\n",
    "Most Informative Features\n",
    "\t    snow = True            False : True   =     34.3 : 1.0\n",
    "\t  easter = True            False : True   =     26.2 : 1.0\n",
    "\t headach = True            False : True   =     20.9 : 1.0\n",
    "\t    argh = True            False : True   =     17.6 : 1.0\n",
    "\tunfortun = True            False : True   =     16.9 : 1.0\n",
    "\t    jona = True             True : False  =     16.2 : 1.0\n",
    "\t     ach = True            False : True   =     14.9 : 1.0\n",
    "\t     sad = True            False : True   =     13.0 : 1.0\n",
    "\t  parent = True            False : True   =     12.9 : 1.0\n",
    "\t  spring = True            False : True   =     12.7 : 1.0\n",
    "```\n",
    "\n",
    "The [following video](https://www.youtube.com/watch?v=rISOsUaTrO4) will help you complete this step. The source code in this video can be found [here](https://pythonprogramming.net/naive-bayes-classifier-nltk-tutorial/)."
   ]
  },
  {
   "cell_type": "markdown",
   "metadata": {},
   "source": [
    "[![Building and Training NB](nb-model-building.jpg)](https://www.youtube.com/watch?v=rISOsUaTrO4)"
   ]
  },
  {
   "cell_type": "code",
   "execution_count": 38,
   "metadata": {},
   "outputs": [],
   "source": [
    "testing_set = featuresets[:4000]\n",
    "training_set = featuresets[4000:]\n",
    "\n",
    "classifier = nltk.NaiveBayesClassifier.train(training_set)"
   ]
  },
  {
   "cell_type": "code",
   "execution_count": 39,
   "metadata": {},
   "outputs": [
    {
     "name": "stdout",
     "output_type": "stream",
     "text": [
      "Most Informative Features\n",
      "                 stomach = True            False : True   =     18.8 : 1.0\n",
      "                   upset = True            False : True   =     16.3 : 1.0\n",
      "               congratul = True             True : False  =     13.6 : 1.0\n",
      "                 headach = True            False : True   =     13.3 : 1.0\n",
      "                    ughh = True            False : True   =     13.1 : 1.0\n",
      "                    poor = True            False : True   =     12.7 : 1.0\n",
      "                    hurt = True            False : True   =     12.4 : 1.0\n",
      "                   fever = True            False : True   =     11.8 : 1.0\n",
      "                  bummer = True            False : True   =     11.8 : 1.0\n",
      "                    booo = True            False : True   =     11.3 : 1.0\n",
      "                    argh = True            False : True   =     11.2 : 1.0\n",
      "                     sad = True            False : True   =     10.8 : 1.0\n",
      "                  missin = True            False : True   =     10.5 : 1.0\n",
      "                  hilari = True             True : False  =     10.1 : 1.0\n",
      "                  broken = True            False : True   =      9.7 : 1.0\n"
     ]
    }
   ],
   "source": [
    "classifier.show_most_informative_features(15)"
   ]
  },
  {
   "cell_type": "markdown",
   "metadata": {},
   "source": [
    "### Testing Naive Bayes Model\n",
    "\n",
    "Now we'll test our classifier with the test dataset. This is done by calling `nltk.classify.accuracy(classifier, test)`.\n",
    "\n",
    "As mentioned in one of the tutorial videos, a Naive Bayes model is considered OK if your accuracy score is over 0.6. If your accuracy score is over 0.7, you've done a great job!"
   ]
  },
  {
   "cell_type": "code",
   "execution_count": null,
   "metadata": {},
   "outputs": [],
   "source": [
    "print(\"Classifier accuracy percent:\", nltk.classify.accuracy(classifier, testing_set)*100)"
   ]
  },
  {
   "cell_type": "markdown",
   "metadata": {},
   "source": [
    "## Bonus Question 1: Improve Model Performance\n",
    "\n",
    "If you are still not exhausted so far and want to dig deeper, try to improve your classifier performance. There are many aspects you can dig into, for example:\n",
    "\n",
    "* Improve stemming and lemmatization. Inspect your bag of words and the most important features. Are there any words you should furuther remove from analysis? You can append these words to further remove to the stop words list.\n",
    "\n",
    "* Remember we only used the top 5,000 features to build model? Try using different numbers of top features. The bottom line is to use as few features as you can without compromising your model performance. The fewer features you select into your model, the faster your model is trained. Then you can use a larger sample size to improve your model accuracy score."
   ]
  },
  {
   "cell_type": "code",
   "execution_count": null,
   "metadata": {},
   "outputs": [],
   "source": [
    "# your code here"
   ]
  },
  {
   "cell_type": "markdown",
   "metadata": {},
   "source": [
    "## Bonus Question 2: Machine Learning Pipeline\n",
    "\n",
    "In a new Jupyter Notebook, combine all your codes into a function (or a class). Your new function will execute the complete machine learning pipeline job by receiving the dataset location and output the classifier. This will allow you to use your function to predict the sentiment of any tweet in real time. "
   ]
  },
  {
   "cell_type": "code",
   "execution_count": null,
   "metadata": {},
   "outputs": [],
   "source": [
    "# your code here"
   ]
  },
  {
   "cell_type": "markdown",
   "metadata": {},
   "source": [
    "## Bonus Question 3: Apache Spark\n",
    "\n",
    "If you have completed the Apache Spark advanced topic lab, what you can do is to migrate your pipeline from local to a Databricks Notebook. Share your notebook with your instructor and classmates to show off your achievements!"
   ]
  },
  {
   "cell_type": "code",
   "execution_count": null,
   "metadata": {},
   "outputs": [],
   "source": []
  },
  {
   "cell_type": "code",
   "execution_count": null,
   "metadata": {},
   "outputs": [],
   "source": []
  }
 ],
 "metadata": {
  "kernelspec": {
   "display_name": "Python 3",
   "language": "python",
   "name": "python3"
  },
  "language_info": {
   "codemirror_mode": {
    "name": "ipython",
    "version": 3
   },
   "file_extension": ".py",
   "mimetype": "text/x-python",
   "name": "python",
   "nbconvert_exporter": "python",
   "pygments_lexer": "ipython3",
   "version": "3.7.4"
  }
 },
 "nbformat": 4,
 "nbformat_minor": 4
}
